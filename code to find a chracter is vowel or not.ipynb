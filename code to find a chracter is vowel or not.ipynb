{
  "nbformat": 4,
  "nbformat_minor": 0,
  "metadata": {
    "colab": {
      "provenance": []
    },
    "kernelspec": {
      "name": "python3",
      "display_name": "Python 3"
    },
    "language_info": {
      "name": "python"
    }
  },
  "cells": [
    {
      "cell_type": "code",
      "source": [
        "#code to find a chracter is vowel or not"
      ],
      "metadata": {
        "id": "7qizecO_mWob"
      },
      "execution_count": 13,
      "outputs": []
    },
    {
      "cell_type": "code",
      "source": [
        "letter=input(\"enter a letter\")\n",
        "if letter in \"AEIOUaeiou\":\n",
        "  print(\"it is a vowel\")\n",
        "else:\n",
        "  print(\"it is not a vowel\")"
      ],
      "metadata": {
        "id": "KTH3ku2OoFmG"
      },
      "execution_count": null,
      "outputs": []
    }
  ]
}